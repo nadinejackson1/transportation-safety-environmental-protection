{
  "nbformat": 4,
  "nbformat_minor": 0,
  "metadata": {
    "colab": {
      "provenance": []
    },
    "kernelspec": {
      "name": "python3",
      "display_name": "Python 3"
    },
    "language_info": {
      "name": "python"
    }
  },
  "cells": [
    {
      "cell_type": "code",
      "execution_count": 30,
      "metadata": {
        "id": "1Cv_UBtr5KAz"
      },
      "outputs": [],
      "source": [
        "import pandas as pd\n",
        "import numpy as np\n",
        "from sklearn.model_selection import train_test_split\n",
        "from sklearn.linear_model import LinearRegression\n",
        "from sklearn.metrics import mean_squared_error, mean_absolute_error, r2_score"
      ]
    },
    {
      "cell_type": "code",
      "source": [
        "from google.colab import drive\n",
        "drive.mount('/content/drive')"
      ],
      "metadata": {
        "id": "6BeyWkiF6lhR"
      },
      "execution_count": null,
      "outputs": []
    },
    {
      "cell_type": "code",
      "source": [
        "import warnings\n",
        "warnings.filterwarnings(\"ignore\", category=UserWarning)"
      ],
      "metadata": {
        "id": "Oxndgy0TjU6v"
      },
      "execution_count": 32,
      "outputs": []
    },
    {
      "cell_type": "code",
      "source": [
        "file_path = \"/content/drive/MyDrive/TransportationData/39yearrailroadaccidentincidentoverview.xlsx\"\n",
        "df = pd.read_excel(file_path)\n",
        "df = pd.read_excel('/content/drive/MyDrive/TransportationData/39yearrailroadaccidentincidentoverview.xlsx')"
      ],
      "metadata": {
        "id": "a-G91jUvgLd_"
      },
      "execution_count": 33,
      "outputs": []
    },
    {
      "cell_type": "code",
      "source": [
        "# Transpose the dataframe\n",
        "df_transposed = df.set_index('Category').T\n",
        "\n",
        "# Reset index and rename the columns\n",
        "df_transposed.reset_index(inplace=True)\n",
        "df_transposed.columns = df_transposed.columns.str.strip()\n",
        "df_transposed.rename(columns={'index': 'Year'}, inplace=True)\n",
        "\n",
        "# Extract the year and convert it to integer\n",
        "df_transposed['Year'] = df_transposed['Year'].str.extract('(\\d+)').astype(int)"
      ],
      "metadata": {
        "id": "BKNpMKGg_ZPA"
      },
      "execution_count": 34,
      "outputs": []
    },
    {
      "cell_type": "code",
      "source": [
        "# Define the features and the target variable\n",
        "X = df_transposed[['Year', '--- Train accident deaths', '--- Train accident injuries',\n",
        "                   '--- Human factor caused', '--- Track caused',\n",
        "                   '--- Motive power/equipment caused', '--- Signal caused, all track types',\n",
        "                   '--- Miscellaneous caused', '--- Collisions',\n",
        "                   '--- Derailments', '--- Other types, e.g., obstructions']].copy()\n",
        "X['Hazmat_Derailment_Ratio'] = df_transposed['--- Hazmat cars damaged/derailed'] / df_transposed['TOTAL ACCIDENTS/INCIDENTS 1/']\n",
        "y1 = df_transposed['--- HAZMAT RELEASES']\n",
        "y2 = df_transposed['--- Hazmat cars damaged/derailed']\n",
        "\n",
        "# Split the data into training and testing sets for each target variable\n",
        "X_train1, X_test1, y_train1, y_test1 = train_test_split(X, y1, test_size=0.2, random_state=42)\n",
        "X_train2, X_test2, y_train2, y_test2 = train_test_split(X, y2, test_size=0.2, random_state=42)"
      ],
      "metadata": {
        "id": "549lbdKmDCgB"
      },
      "execution_count": 35,
      "outputs": []
    },
    {
      "cell_type": "code",
      "source": [
        "# Add function to calculate and display evaluation metrics\n",
        "def display_metrics(y_true, y_pred):\n",
        "    mse = mean_squared_error(y_true, y_pred)\n",
        "    rmse = np.sqrt(mse)\n",
        "    mae = mean_absolute_error(y_true, y_pred)\n",
        "    r2 = r2_score(y_true, y_pred)\n",
        "\n",
        "    print(\"Mean squared error (MSE):\", mse)\n",
        "    print(\"Root mean squared error (RMSE):\", rmse)\n",
        "    print(\"Mean absolute error (MAE):\", mae)\n",
        "    print(\"R-squared (R²) score:\", r2)\n"
      ],
      "metadata": {
        "id": "GvWfjuGtZ1qr"
      },
      "execution_count": 36,
      "outputs": []
    },
    {
      "cell_type": "code",
      "source": [
        "from sklearn.ensemble import RandomForestRegressor, GradientBoostingRegressor\n",
        "\n",
        "models = {'Linear Regression': LinearRegression(),\n",
        "          'Random Forest': RandomForestRegressor(random_state=42),\n",
        "          'Gradient Boosting': GradientBoostingRegressor(random_state=42)}\n",
        "\n",
        "for name, model in models.items():\n",
        "    # Train the model for hazmat releases\n",
        "    model.fit(X_train1, y_train1)\n",
        "    y_pred1 = model.predict(X_test1)\n",
        "    print(f\"{name} (Hazmat Releases) evaluation:\")\n",
        "    display_metrics(y_test1, y_pred1)\n",
        "    \n",
        "    # Train the model for hazmat cars damaged/derailed\n",
        "    model.fit(X_train2, y_train2)\n",
        "    y_pred2 = model.predict(X_test2)\n",
        "    print(f\"{name} (Hazmat Cars Damaged/Derailed) evaluation:\")\n",
        "    display_metrics(y_test2, y_pred2)\n",
        "    print(\"\\n\")"
      ],
      "metadata": {
        "colab": {
          "base_uri": "https://localhost:8080/"
        },
        "id": "_4726dDzZlbv",
        "outputId": "dbf95a69-51e0-4ecc-c035-95158efe23e7"
      },
      "execution_count": 37,
      "outputs": [
        {
          "output_type": "stream",
          "name": "stdout",
          "text": [
            "Linear Regression (Hazmat Releases) evaluation:\n",
            "Mean squared error (MSE): 21.656998382498088\n",
            "Root mean squared error (RMSE): 4.653708025058951\n",
            "Mean absolute error (MAE): 3.8579708828132766\n",
            "R-squared (R²) score: 0.7865977064696108\n",
            "Linear Regression (Hazmat Cars Damaged/Derailed) evaluation:\n",
            "Mean squared error (MSE): 3566.042985424887\n",
            "Root mean squared error (RMSE): 59.71635442175692\n",
            "Mean absolute error (MAE): 51.689214816025014\n",
            "R-squared (R²) score: -0.18061346976490222\n",
            "\n",
            "\n",
            "Random Forest (Hazmat Releases) evaluation:\n",
            "Mean squared error (MSE): 46.98574999999998\n",
            "Root mean squared error (RMSE): 6.854615233548852\n",
            "Mean absolute error (MAE): 5.4575\n",
            "R-squared (R²) score: 0.5370149345650502\n",
            "Random Forest (Hazmat Cars Damaged/Derailed) evaluation:\n",
            "Mean squared error (MSE): 912.3773375000003\n",
            "Root mean squared error (RMSE): 30.205584541604228\n",
            "Mean absolute error (MAE): 25.26625\n",
            "R-squared (R²) score: 0.6979383090547921\n",
            "\n",
            "\n",
            "Gradient Boosting (Hazmat Releases) evaluation:\n",
            "Mean squared error (MSE): 69.24447623827704\n",
            "Root mean squared error (RMSE): 8.321326591251966\n",
            "Mean absolute error (MAE): 6.942468238273402\n",
            "R-squared (R²) score: 0.317683375019287\n",
            "Gradient Boosting (Hazmat Cars Damaged/Derailed) evaluation:\n",
            "Mean squared error (MSE): 1371.8847960452026\n",
            "Root mean squared error (RMSE): 37.03896321504157\n",
            "Mean absolute error (MAE): 28.33511151073263\n",
            "R-squared (R²) score: 0.5458087084770062\n",
            "\n",
            "\n"
          ]
        }
      ]
    },
    {
      "cell_type": "markdown",
      "source": [
        "Based on the provided evaluation metrics, here's a summary of the models' performances:\n",
        "\n",
        "Hazmat Releases:\n",
        "\n",
        "    Linear Regression:\n",
        "        R² score: 0.787\n",
        "        MSE: 21.66\n",
        "        RMSE: 4.65\n",
        "        MAE: 3.86\n",
        "\n",
        "    Random Forest:\n",
        "        R² score: 0.537\n",
        "        MSE: 46.99\n",
        "        RMSE: 6.85\n",
        "        MAE: 5.46\n",
        "\n",
        "    Gradient Boosting:\n",
        "        R² score: 0.318\n",
        "        MSE: 69.24\n",
        "        RMSE: 8.32\n",
        "        MAE: 6.94\n",
        "\n",
        "Hazmat Cars Damaged/Derailed:\n",
        "\n",
        "    Linear Regression:\n",
        "        R² score: -0.181\n",
        "        MSE: 3566.04\n",
        "        RMSE: 59.72\n",
        "        MAE: 51.69\n",
        "\n",
        "    Random Forest:\n",
        "        R² score: 0.698\n",
        "        MSE: 912.38\n",
        "        RMSE: 30.21\n",
        "        MAE: 25.27\n",
        "\n",
        "    Gradient Boosting:\n",
        "        R² score: 0.546\n",
        "        MSE: 1371.88\n",
        "        RMSE: 37.04\n",
        "        MAE: 28.34\n",
        "\n",
        "For predicting Hazmat Releases, the Linear Regression model has the best performance, with the highest R² score (0.7866), and the lowest RMSE (4.6537) , MSE (21.66), and MAE (3.8580).\n",
        "\n",
        "For predicting Hazmat Cars Damaged/Derailed, the Random Forest model has the best performance, with the highest R² score (0.6979), and the lowest RMSE (30.2056), MSE (912.38), and MAE (25.2663)."
      ],
      "metadata": {
        "id": "KBdQ7b4M5Gm9"
      }
    },
    {
      "cell_type": "code",
      "source": [
        "# Function to prepare the features for a specific year\n",
        "def prepare_features(df):\n",
        "    row = df.iloc[-1]  # Use the last row (most recent year) in the dataset\n",
        "    features = row[['Year', '--- Train accident deaths', '--- Train accident injuries',\n",
        "                    '--- Human factor caused', '--- Track caused',\n",
        "                    '--- Motive power/equipment caused', '--- Signal caused, all track types',\n",
        "                    '--- Miscellaneous caused', '--- Collisions',\n",
        "                    '--- Derailments', '--- Other types, e.g., obstructions']].copy()\n",
        "    features['Hazmat_Derailment_Ratio'] = row['--- Hazmat cars damaged/derailed'] / row['TOTAL ACCIDENTS/INCIDENTS 1/']\n",
        "    return features\n",
        "\n",
        "# Function to make predictions for a specific year\n",
        "def predict_for_year(year, df):\n",
        "    most_recent_features = prepare_features(df)\n",
        "    most_recent_features['Year'] = year  # Set the year for the prediction\n",
        "    \n",
        "    features = most_recent_features.to_frame().T\n",
        "    hazmat_releases_pred = best_model_hazmat_releases.predict(features)\n",
        "    hazmat_cars_damaged_derailed_pred = best_model_hazmat_cars_damaged_derailed.predict(features)\n",
        "    \n",
        "    return hazmat_releases_pred[0], hazmat_cars_damaged_derailed_pred[0]\n",
        "\n",
        "# Example usage: predict for the year 2023\n",
        "year = 2024\n",
        "hazmat_releases_prediction, hazmat_cars_damaged_derailed_prediction = predict_for_year(year, df_transposed)\n",
        "print(f\"Predicted number of hazmat releases in {year}: {hazmat_releases_prediction}\")\n",
        "print(f\"Predicted number of hazmat cars damaged/derailed in {year}: {hazmat_cars_damaged_derailed_prediction}\")\n"
      ],
      "metadata": {
        "colab": {
          "base_uri": "https://localhost:8080/"
        },
        "id": "iZ7MwjFgdSYL",
        "outputId": "c00348bd-b376-41c5-bbff-9372b6300805"
      },
      "execution_count": 42,
      "outputs": [
        {
          "output_type": "stream",
          "name": "stdout",
          "text": [
            "Predicted number of hazmat releases in 2024: 565.1742804740315\n",
            "Predicted number of hazmat cars damaged/derailed in 2024: 628.23\n"
          ]
        }
      ]
    },
    {
      "cell_type": "code",
      "source": [
        "from sklearn.model_selection import cross_val_score\n",
        "\n",
        "models = {'Linear Regression': LinearRegression(),\n",
        "          'Random Forest': RandomForestRegressor(random_state=42),\n",
        "          'Gradient Boosting': GradientBoostingRegressor(random_state=42)}\n",
        "\n",
        "for name, model in models.items():\n",
        "    # Evaluate the model for hazmat releases using cross-validation\n",
        "    scores1 = cross_val_score(model, X, y1, cv=5, scoring='neg_mean_squared_error')\n",
        "    rmse1 = np.sqrt(-scores1)\n",
        "    print(f\"{name} (Hazmat Releases) evaluation:\")\n",
        "    print(\"Cross-validation scores:\", rmse1)\n",
        "    print(\"Mean RMSE:\", rmse1.mean())\n",
        "    \n",
        "    # Evaluate the model for hazmat cars damaged/derailed using cross-validation\n",
        "    scores2 = cross_val_score(model, X, y2, cv=5, scoring='neg_mean_squared_error')\n",
        "    rmse2 = np.sqrt(-scores2)\n",
        "    print(f\"{name} (Hazmat Cars Damaged/Derailed) evaluation:\")\n",
        "    print(\"Cross-validation scores:\", rmse2)\n",
        "    print(\"Mean RMSE:\", rmse2.mean())\n",
        "    print(\"\\n\")"
      ],
      "metadata": {
        "colab": {
          "base_uri": "https://localhost:8080/"
        },
        "id": "LrNxoITp36A1",
        "outputId": "56b07ab4-bd94-421f-fc05-40510435aa61"
      },
      "execution_count": 44,
      "outputs": [
        {
          "output_type": "stream",
          "name": "stdout",
          "text": [
            "Linear Regression (Hazmat Releases) evaluation:\n",
            "Cross-validation scores: [26.23491462  5.92855469  8.16267553  8.30307268  6.76052581]\n",
            "Mean RMSE: 11.077948668014562\n",
            "Linear Regression (Hazmat Cars Damaged/Derailed) evaluation:\n",
            "Cross-validation scores: [54.89513136 59.08695551 97.42301126 47.72411989 71.95507562]\n",
            "Mean RMSE: 66.2168587276827\n",
            "\n",
            "\n",
            "Random Forest (Hazmat Releases) evaluation:\n",
            "Cross-validation scores: [16.83229188  9.72538431  8.35249139  5.36864159  4.05658371]\n",
            "Mean RMSE: 8.867078577976566\n",
            "Random Forest (Hazmat Cars Damaged/Derailed) evaluation:\n",
            "Cross-validation scores: [237.12396196 108.16663638 135.71969887 112.27948143 152.89518193]\n",
            "Mean RMSE: 149.2369921145877\n",
            "\n",
            "\n",
            "Gradient Boosting (Hazmat Releases) evaluation:\n",
            "Cross-validation scores: [14.1555077  11.30822623  8.30375021  4.72019693  3.06090265]\n",
            "Mean RMSE: 8.309716743679278\n",
            "Gradient Boosting (Hazmat Cars Damaged/Derailed) evaluation:\n",
            "Cross-validation scores: [215.80648789 120.12975401  44.12884881 107.91917822 142.7455986 ]\n",
            "Mean RMSE: 126.14597350466788\n",
            "\n",
            "\n"
          ]
        }
      ]
    },
    {
      "cell_type": "markdown",
      "source": [
        "Based on the cross-validation results, here is the summary of the performance of each model for the two target variables:\n",
        "\n",
        "Hazmat Releases:\n",
        "\n",
        "    Linear Regression:\n",
        "        Mean RMSE: 11.08\n",
        "\n",
        "    Random Forest:\n",
        "        Mean RMSE: 8.87\n",
        "\n",
        "    Gradient Boosting:\n",
        "        Mean RMSE: 8.31\n",
        "\n",
        "Hazmat Cars Damaged/Derailed:\n",
        "\n",
        "    Linear Regression:\n",
        "        Mean RMSE: 66.22\n",
        "\n",
        "    Random Forest:\n",
        "        Mean RMSE: 149.24\n",
        "\n",
        "    Gradient Boosting:\n",
        "        Mean RMSE: 126.15\n",
        "\n",
        "For the Hazmat Releases target variable, the Gradient Boosting model performs the best, with the lowest mean RMSE from cross-validation.\n",
        "\n",
        "For the Hazmat Cars Damaged/Derailed target variable, the Linear Regression model performs the best, with the lowest mean RMSE from cross-validation.\n",
        "\n",
        "Based on the cross-validation results, I would choose the Gradient Boosting model for predicting Hazmat Releases and the Linear Regression model for predicting Hazmat Cars Damaged/Derailed. \n",
        "\n",
        "***Note that cross-validation can be computationally expensive, especially for larger datasets. "
      ],
      "metadata": {
        "id": "E1pj3dgy4eRk"
      }
    }
  ]
}